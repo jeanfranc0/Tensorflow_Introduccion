{
 "cells": [
  {
   "cell_type": "markdown",
   "metadata": {},
   "source": [
    "<center><big><b>Bienvenido a TensorFlow</b></big></center>\n",
    "<img src=\"images/LOGO.jpeg\">"
   ]
  },
  {
   "cell_type": "markdown",
   "metadata": {},
   "source": [
    "<big><b>Agenda</b></big>\n",
    "<ul>\n",
    "  <li>Básicas de Tensorflow</li>\n",
    "</ul>\n",
    "<br>\n",
    "<big><b>Es necesario indicar que existen 3 tipos de tensores</b></big>\n",
    "<ul>\n",
    "  <li>Constantes</li>\n",
    "  <li>Variables</li>\n",
    "  <li>Placeholders</li>\n",
    "</ul>"
   ]
  },
  {
   "cell_type": "markdown",
   "metadata": {},
   "source": [
    "<big><b>algo importante antes de empezar </b></big>\n",
    "<br>\n",
    "tf.multiply(X, Y) hace la multiplicación elemento a elemento\n",
    "<br>\n",
    "tf.matmul(X, Y) hace multiplicación de matrices"
   ]
  },
  {
   "cell_type": "code",
   "execution_count": 1,
   "metadata": {
    "collapsed": false
   },
   "outputs": [
    {
     "name": "stdout",
     "output_type": "stream",
     "text": [
      "Hola Mundo\n",
      "Tensor(\"Const_1:0\", shape=(), dtype=string)\n",
      "Hola Mundo\n"
     ]
    }
   ],
   "source": [
    "#Básicas de Tensorflow - constantes\n",
    "import tensorflow as tf\n",
    "x1 = tf.constant('Hola')#la información de este tipo de dato es no cambia, es invariable, inmutable...\n",
    "y1 = tf.constant('Mundo')#la información de este tipo de dato es no cambia, es invariable, inmutable...\n",
    "print y1\n",
    "with tf.Session() as session:\n",
    "    print(session.run(x1 + ' ' + y1))\n",
    "session.close()"
   ]
  },
  {
   "cell_type": "code",
   "execution_count": null,
   "metadata": {
    "collapsed": true
   },
   "outputs": [],
   "source": [
    "# forma de una constante: tf.constant(value, dtype=None, shape=None, name='Const', verify_shape=False)"
   ]
  },
  {
   "cell_type": "code",
   "execution_count": 65,
   "metadata": {
    "collapsed": false
   },
   "outputs": [
    {
     "name": "stdout",
     "output_type": "stream",
     "text": [
      "[2 2]\n",
      "[[0 1]\n",
      " [2 3]]\n",
      "[ 0.  0.  0.  0.  0.]\n",
      "[[ 0.  0.  0.]\n",
      " [ 0.  0.  0.]]\n",
      "[[ 1.  1.  1.]\n",
      " [ 1.  1.  1.]]\n"
     ]
    }
   ],
   "source": [
    "#Básicas de Tensorflow - constantes\n",
    "c = tf.constant([2, 2])\n",
    "d = tf.constant([[0, 1], [2, 3]])\n",
    "e = tf.zeros([5], dtype=tf.float32)\n",
    "f = tf.zeros([2, 3], dtype=tf.float32)\n",
    "g = tf.ones_like(f)\n",
    "h = tf.fill([2, 3], 8) \n",
    "with tf.Session() as session:\n",
    "    print session.run(c)\n",
    "    print session.run(d)\n",
    "    print session.run(e)\n",
    "    print session.run(f)\n",
    "    print session.run(g)\n",
    "    print session.run(h)\n",
    "session.close()"
   ]
  },
  {
   "cell_type": "code",
   "execution_count": 68,
   "metadata": {
    "collapsed": false
   },
   "outputs": [
    {
     "name": "stdout",
     "output_type": "stream",
     "text": [
      "[ 10.  11.  12.  13.]\n",
      "[0 1 2 3 4]\n"
     ]
    }
   ],
   "source": [
    "#tf.linspace(start, stop, num) \n",
    "w=tf.linspace(10.0, 13.0, 4) \n",
    "# 'limit' is 5\n",
    "y=tf.range(5)\n",
    "with tf.Session() as session:\n",
    "    print session.run(w)\n",
    "    print session.run(y)\n",
    "session.close()"
   ]
  },
  {
   "cell_type": "code",
   "execution_count": 3,
   "metadata": {
    "collapsed": false
   },
   "outputs": [
    {
     "name": "stdout",
     "output_type": "stream",
     "text": [
      "[40 45 50]\n"
     ]
    }
   ],
   "source": [
    "#Básicas de tensorflow - Variables\n",
    "import tensorflow as tf\n",
    "a = tf.constant([35, 40, 45])\n",
    "b = tf.Variable(a + 5)\n",
    "#Inicialización de todas las variables\n",
    "model = tf.global_variables_initializer()\n",
    "with tf.Session() as session:\n",
    "    #Inicio de sesión de todas las variables\n",
    "    session.run(model)\n",
    "    print session.run(b)\n",
    "session.close()\n"
   ]
  },
  {
   "cell_type": "code",
   "execution_count": 4,
   "metadata": {
    "collapsed": false
   },
   "outputs": [
    {
     "name": "stdout",
     "output_type": "stream",
     "text": [
      "[[ 9 12]\n",
      " [ 9 12]]\n"
     ]
    }
   ],
   "source": [
    "#Básicas de tensorflow - Variables\n",
    "import tensorflow as tf\n",
    "\n",
    "var1 = tf.Variable([[1, 2], [1, 2]])\n",
    "var2 = tf.Variable([[3, 4], [3, 4]])\n",
    "\n",
    "result = tf.matmul(var1, var2)\n",
    "#Inicialización de todas las variables\n",
    "model = tf.global_variables_initializer()\n",
    "\n",
    "with tf.Session() as sess:\n",
    "    #Inicio de sesión de todas las variables\n",
    "    sess.run(model)\n",
    "    print sess.run(result)\n",
    "    \n"
   ]
  },
  {
   "cell_type": "code",
   "execution_count": 5,
   "metadata": {
    "collapsed": false
   },
   "outputs": [
    {
     "name": "stdout",
     "output_type": "stream",
     "text": [
      "9.0\n",
      "Tensor(\"Mul_1:0\", dtype=float32)\n",
      "32.0\n"
     ]
    }
   ],
   "source": [
    "#Básicas de tensorflow - Placeholders\n",
    "import tensorflow as tf\n",
    "#placeholder se utiliza para asignar un valor más adelante\n",
    "a = tf.placeholder(\"float\")\n",
    "b = tf.placeholder(\"float\")\n",
    "y = tf.multiply(a, b)\n",
    "sess = tf.Session()\n",
    "print sess.run(y, feed_dict={a: 3, b: 3})\n",
    "\n",
    "y = tf.multiply(y,2)\n",
    "\n",
    "print y\n",
    "\n",
    "print sess.run(y, feed_dict={a: 4, b: 4})"
   ]
  },
  {
   "cell_type": "markdown",
   "metadata": {},
   "source": [
    "Existe la necesidad de identificar que tan efectivas son las operaciones proporcionadas por Tensorflow. A continuación, se visualiza el tiempo de ejecución de dos algoritmos con y sin Tensorflow:"
   ]
  },
  {
   "cell_type": "code",
   "execution_count": 6,
   "metadata": {
    "collapsed": false
   },
   "outputs": [
    {
     "name": "stdout",
     "output_type": "stream",
     "text": [
      "\n",
      "Tiempo de ejecución con Tensorflow 42.6790714264 ms\n",
      "\n"
     ]
    }
   ],
   "source": [
    "import time \n",
    "import tensorflow as tf\n",
    "\n",
    "a = tf.random_normal([1000], mean=-1, stddev=4)\n",
    "b = tf.random_normal([1000], mean=-1, stddev=4)\n",
    "c = tf.multiply(a,b)\n",
    "\n",
    "sess = tf.Session()\n",
    "tic = time.time()\n",
    "sess.run(c)\n",
    "toc = time.time()\n",
    "sess.close()\n",
    "print \"\"\n",
    "print \"Tiempo de ejecución con Tensorflow \"+str(1000*(toc-tic))  +\" ms\"\n",
    "print \"\""
   ]
  },
  {
   "cell_type": "code",
   "execution_count": 7,
   "metadata": {
    "collapsed": false
   },
   "outputs": [
    {
     "name": "stdout",
     "output_type": "stream",
     "text": [
      "\n",
      "Tiempo de ejecución sin Tensorflow 46411.2181664 ms\n",
      "\n"
     ]
    }
   ],
   "source": [
    "c=0\n",
    "tic = time.time()\n",
    "for i in range(1000):\n",
    "    c+=a[i]*b[i]\n",
    "toc = time.time()\n",
    "print \"\"\n",
    "print \"Tiempo de ejecución sin Tensorflow \"+str(1000*(toc-tic))  +\" ms\"\n",
    "print \"\""
   ]
  },
  {
   "cell_type": "code",
   "execution_count": 60,
   "metadata": {
    "collapsed": false
   },
   "outputs": [],
   "source": [
    "# tf.placeholder(dtype, shape=None, name=None)\n",
    "# crea un placeholder de tipo float 32-bit, shape es un vector 3 elementos\n",
    "a = tf.placeholder(tf.float32, shape=[3])\n",
    "# crea una constante de tipo float 32-bit, shape es un vector 3 elementos\n",
    "b = tf.constant([5, 5, 5], tf.float32)\n",
    "c = a + b # equivalente a c = tf.add(a,b)\n",
    "with tf.Session() as sess:\n",
    "    print sess.run(c) "
   ]
  },
  {
   "cell_type": "code",
   "execution_count": 59,
   "metadata": {
    "collapsed": false
   },
   "outputs": [
    {
     "name": "stdout",
     "output_type": "stream",
     "text": [
      "[ 6.  7.  8.]\n"
     ]
    }
   ],
   "source": [
    "# tf.placeholder(dtype, shape=None, name=None)\n",
    "# crea un placeholder de tipo float 32-bit, shape es un vector 3 elementos\n",
    "a = tf.placeholder(tf.float32, shape=[3])\n",
    "# crea una constante de tipo float 32-bit, shape es un vector 3 elementos\n",
    "b = tf.constant([5, 5, 5], tf.float32)\n",
    "c = a + b # equivalente a c = tf.add(a,b)\n",
    "with tf.Session() as sess:\n",
    "    print sess.run(c, feed_dict={a : [1,2,3]}) "
   ]
  },
  {
   "cell_type": "code",
   "execution_count": null,
   "metadata": {
    "collapsed": true
   },
   "outputs": [],
   "source": []
  }
 ],
 "metadata": {
  "anaconda-cloud": {},
  "kernelspec": {
   "display_name": "Python [default]",
   "language": "python",
   "name": "python2"
  },
  "language_info": {
   "codemirror_mode": {
    "name": "ipython",
    "version": 2
   },
   "file_extension": ".py",
   "mimetype": "text/x-python",
   "name": "python",
   "nbconvert_exporter": "python",
   "pygments_lexer": "ipython2",
   "version": "2.7.12"
  }
 },
 "nbformat": 4,
 "nbformat_minor": 1
}
