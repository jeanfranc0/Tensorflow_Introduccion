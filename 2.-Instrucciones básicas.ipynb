{
 "cells": [
  {
   "cell_type": "markdown",
   "metadata": {},
   "source": [
    "<center><b>Bienvenido a TensorFlow</b></center>\n",
    "<img src=\"images/LOGO.jpeg\">"
   ]
  },
  {
   "cell_type": "markdown",
   "metadata": {},
   "source": [
    "<b>Tensors</b>\n",
    "<br>\n",
    "Esta secuencia de comandos presenta varias formas de crear tensores en TensorFlow Primero comenzamos cargando TensorFlow y restableciendo el gráfico computacional."
   ]
  },
  {
   "cell_type": "code",
   "execution_count": 1,
   "metadata": {
    "collapsed": false
   },
   "outputs": [],
   "source": [
    "import tensorflow as tf\n",
    "from tensorflow.python.framework import ops\n",
    "ops.reset_default_graph()"
   ]
  },
  {
   "cell_type": "markdown",
   "metadata": {
    "collapsed": true
   },
   "source": [
    "<b>Iniciar una sesión</b>\n",
    "<br>\n",
    "Obtener el control del gráfico con tf.Sesión ()"
   ]
  },
  {
   "cell_type": "code",
   "execution_count": 2,
   "metadata": {
    "collapsed": false
   },
   "outputs": [],
   "source": [
    "sess = tf.Session()"
   ]
  },
  {
   "cell_type": "markdown",
   "metadata": {
    "collapsed": false
   },
   "source": [
    "<b>Creando tensores</b>\n",
    "<br>\n",
    "Tensorflow tiene una función incorporada para crear tensores para usar en variables. Por ejemplo, podemos crear un tensor lleno de cero de forma predefinida usando la función tf.zeros() de la siguiente manera."
   ]
  },
  {
   "cell_type": "code",
   "execution_count": 3,
   "metadata": {
    "collapsed": false
   },
   "outputs": [],
   "source": [
    "tensor = tf.zeros([1,20])"
   ]
  },
  {
   "cell_type": "markdown",
   "metadata": {
    "collapsed": false
   },
   "source": [
    "Los algoritmos de TensorFlow necesitan saber qué objetos son variables y cuáles son constantes. La diferencia entre estos dos objetos se explicará más adelante. Por ahora, creamos una variable usando la función TensorFlow tf.Variable() de la siguiente manera."
   ]
  },
  {
   "cell_type": "code",
   "execution_count": 6,
   "metadata": {
    "collapsed": false
   },
   "outputs": [],
   "source": [
    "var = tf.Variable(tf.zeros([1,20]))"
   ]
  },
  {
   "cell_type": "markdown",
   "metadata": {},
   "source": [
    "Tenga en cuenta que no puede ejecutar sess.run(var), esto daría lugar a un error. Debido a que TensorFlow opera con gráficos computacionales, tenemos que crear una operación de inicialización de variables para evaluarlas. Veremos más de esto más adelante. Para este script, podemos inicializar una variable a la vez llamando al método variable var.initializer."
   ]
  },
  {
   "cell_type": "code",
   "execution_count": 7,
   "metadata": {
    "collapsed": false
   },
   "outputs": [
    {
     "data": {
      "text/plain": [
       "array([[ 0.,  0.,  0.,  0.,  0.,  0.,  0.,  0.,  0.,  0.,  0.,  0.,  0.,\n",
       "         0.,  0.,  0.,  0.,  0.,  0.,  0.]], dtype=float32)"
      ]
     },
     "execution_count": 7,
     "metadata": {},
     "output_type": "execute_result"
    }
   ],
   "source": [
    "sess.run(var.initializer)\n",
    "sess.run(var)"
   ]
  },
  {
   "cell_type": "markdown",
   "metadata": {
    "collapsed": false
   },
   "source": [
    "Comencemos primero creando variables de forma específica declarando el tamaño de nuestra fila y columna."
   ]
  },
  {
   "cell_type": "code",
   "execution_count": 8,
   "metadata": {
    "collapsed": false
   },
   "outputs": [],
   "source": [
    "dim_fila = 2\n",
    "dim_col = 3"
   ]
  },
  {
   "cell_type": "markdown",
   "metadata": {
    "collapsed": false
   },
   "source": [
    "Aquí utilizamos variables inicializadas para contener todos los ceros o unos."
   ]
  },
  {
   "cell_type": "code",
   "execution_count": 9,
   "metadata": {
    "collapsed": true
   },
   "outputs": [],
   "source": [
    "zero_var = tf.Variable(tf.zeros([dim_fila, dim_col]))\n",
    "ones_var = tf.Variable(tf.ones([dim_fila, dim_col]))"
   ]
  },
  {
   "cell_type": "markdown",
   "metadata": {},
   "source": [
    "De nuevo, se debe llamar al método de inicialización de nuestras variables y ejecutarlas para evaluar sus contenidos."
   ]
  },
  {
   "cell_type": "code",
   "execution_count": 13,
   "metadata": {
    "collapsed": false
   },
   "outputs": [
    {
     "name": "stdout",
     "output_type": "stream",
     "text": [
      "[[ 0.  0.  0.]\n",
      " [ 0.  0.  0.]]\n",
      "[[ 1.  1.  1.]\n",
      " [ 1.  1.  1.]]\n"
     ]
    }
   ],
   "source": [
    "sess.run(zero_var.initializer)\n",
    "sess.run(ones_var.initializer)\n",
    "print(sess.run(zero_var))\n",
    "print(sess.run(ones_var))"
   ]
  },
  {
   "cell_type": "markdown",
   "metadata": {},
   "source": [
    "<b>Llenar un tensor con una constante</b>\n",
    "<br>\n",
    "A continuación, se llena un tensor con una constante."
   ]
  },
  {
   "cell_type": "code",
   "execution_count": 18,
   "metadata": {
    "collapsed": false
   },
   "outputs": [
    {
     "name": "stdout",
     "output_type": "stream",
     "text": [
      "[[-2 -2 -2]\n",
      " [-2 -2 -2]]\n"
     ]
    }
   ],
   "source": [
    "var_1 = tf.Variable(tf.fill([dim_fila, dim_col], -2))\n",
    "sess.run(var_1.initializer)\n",
    "print(sess.run(var_1))"
   ]
  },
  {
   "cell_type": "markdown",
   "metadata": {},
   "source": [
    "También podemos crear una variable a partir de una matriz o lista de constantes"
   ]
  },
  {
   "cell_type": "code",
   "execution_count": 19,
   "metadata": {
    "collapsed": false
   },
   "outputs": [
    {
     "name": "stdout",
     "output_type": "stream",
     "text": [
      "[4 6 7 5 3 0 9]\n",
      "[[-1 -1 -1]\n",
      " [-1 -1 -1]]\n"
     ]
    }
   ],
   "source": [
    "# Crea una variable a partir de una constante\n",
    "const_var = tf.Variable(tf.constant([4, 6, 7, 5, 3, 0, 9]))\n",
    "# Esto también se puede usar para llenar una matriz:\n",
    "const_fill_var = tf.Variable(tf.constant(-1, shape=[dim_fila, dim_col]))\n",
    "\n",
    "sess.run(const_var.initializer)\n",
    "sess.run(const_fill_var.initializer)\n",
    "\n",
    "print(sess.run(const_var))\n",
    "print(sess.run(const_fill_var))"
   ]
  },
  {
   "cell_type": "markdown",
   "metadata": {},
   "source": [
    "<b>Crear tensores basados en secuencias y rangos</b>\n",
    "<br>\n",
    "También podemos crear tensores a partir de funciones generadoras de secuencia en TensorFlow. La función TensorFlow linspace() y range() funcionan de forma muy similar a los equivalentes python y numpy respectivamente.\n"
   ]
  },
  {
   "cell_type": "code",
   "execution_count": 22,
   "metadata": {
    "collapsed": false
   },
   "outputs": [
    {
     "name": "stdout",
     "output_type": "stream",
     "text": [
      "[ 0.   0.5  1. ]\n",
      "[ 6  9 12]\n"
     ]
    }
   ],
   "source": [
    "lineal = tf.Variable(tf.linspace(start=0.0, stop=1.0, num=3)) # Genera [0.0, 0.5, 1.0] \n",
    "\n",
    "secuencia = tf.Variable(tf.range(start=6, limit=15, delta=3)) # Genera [6, 9, 12] \n",
    "\n",
    "sess.run(lineal.initializer)\n",
    "sess.run(secuencia.initializer)\n",
    "\n",
    "print(sess.run(lineal))\n",
    "print(sess.run(secuencia))"
   ]
  },
  {
   "cell_type": "markdown",
   "metadata": {},
   "source": [
    "<b>Tensores de números aleatorios</b>\n",
    "<br>\n",
    "También podemos inicializar tensores que provienen de números aleatorios como el siguiente."
   ]
  },
  {
   "cell_type": "code",
   "execution_count": 28,
   "metadata": {
    "collapsed": false
   },
   "outputs": [
    {
     "name": "stdout",
     "output_type": "stream",
     "text": [
      "[[ 0.48062307 -0.48991078  1.46397889]\n",
      " [-0.11555578  1.03812373  1.37628388]]\n",
      "[[ 1.21033573  2.31537199  1.43372631]\n",
      " [ 3.88599634  2.27943468  0.58847237]]\n",
      "(2, 3)\n"
     ]
    }
   ],
   "source": [
    "random_norm = tf.random_normal([dim_fila, dim_col], mean=0.0, stddev=1.0)\n",
    "random_unif = tf.random_uniform([dim_fila, dim_col], minval=0, maxval=4)\n",
    "\n",
    "print(sess.run(random_norm))\n",
    "print(sess.run(random_unif))\n",
    "print(random_norm.shape)"
   ]
  },
  {
   "cell_type": "markdown",
   "metadata": {},
   "source": [
    "<b>Visualización a partir de TensorBoard</b>"
   ]
  },
  {
   "cell_type": "code",
   "execution_count": 33,
   "metadata": {
    "collapsed": false
   },
   "outputs": [],
   "source": [
    "# Reiniciar el grafo\n",
    "ops.reset_default_graph()\n",
    "\n",
    "# Iniciando la sesión \n",
    "sess = tf.Session()\n",
    "\n",
    "# Creando una variable\n",
    "var = tf.Variable([[1,2,3,4]])\n",
    "\n",
    "# Inicialización y escritura sobre el grafo\n",
    "writer = tf.summary.FileWriter(\"./temp/\", graph=sess.graph)\n",
    "\n",
    "# Inicialización de la operación\n",
    "initialize_op = tf.global_variables_initializer()\n",
    "\n",
    "# Ejecutar la inicialización de la variable\n",
    "sess.run(initialize_op)"
   ]
  },
  {
   "cell_type": "markdown",
   "metadata": {},
   "source": [
    "<b>Variables y Placeholders</b>\n",
    "<br>\n",
    "<b>Declarar placeholders</b>\n",
    "<br>\n",
    "Declaramos un placeholders utilizando la función de TensorFlow, tf.placeholder(), que acepta un argumento de tipo (tf.float32) y un argumento de forma, (4,4). Tenga en cuenta que la forma puede ser una tupla o una lista, [4,4]."
   ]
  },
  {
   "cell_type": "code",
   "execution_count": 72,
   "metadata": {
    "collapsed": true
   },
   "outputs": [],
   "source": [
    "x = tf.placeholder(tf.float32, shape=(4, 4))\n",
    "x_1 = tf.placeholder(tf.float32, shape=(4, 4))"
   ]
  },
  {
   "cell_type": "markdown",
   "metadata": {},
   "source": [
    "Para ilustrar cómo usar un placeholder, creamos datos de entrada para él y una operación que podemos visualizar en Tensorboard. Tenga en cuenta el uso de feed_dict, donde introducimos el valor de x en el grafo computacional."
   ]
  },
  {
   "cell_type": "code",
   "execution_count": 74,
   "metadata": {
    "collapsed": false
   },
   "outputs": [
    {
     "name": "stdout",
     "output_type": "stream",
     "text": [
      "[[ 0.33836744  0.29862542  0.51653853  0.65204737]\n",
      " [ 0.96259927  0.33817624  0.39165996  0.2852697 ]\n",
      " [ 0.93078481  0.79571572  0.19793095  0.61186732]\n",
      " [ 0.46129682  0.21569596  0.18384062  0.9614113 ]]\n",
      "[[ 0.11449252  0.08917713  0.26681203  0.4251658 ]\n",
      " [ 0.92659736  0.11436318  0.15339753  0.0813788 ]\n",
      " [ 0.86636037  0.63316357  0.03917666  0.3743816 ]\n",
      " [ 0.21279477  0.04652475  0.03379737  0.9243117 ]]\n"
     ]
    }
   ],
   "source": [
    "import numpy as np\n",
    "\n",
    "# Ingrese los datos en el marcador de posición, tenga en cuenta que 'array' y 'x' tienen la misma forma.\n",
    "array = np.random.rand(4,4)\n",
    "print(array)\n",
    "# Crea un Tensor para realizar una operación (aquí, y será igual a x, una matriz de 4x4)\n",
    "y = x * x_1 \n",
    "\n",
    "sess = tf.Session()\n",
    "\n",
    "# Se introduce el valor de x en el grafo computacional\n",
    "print(sess.run(y, feed_dict={x: array, x_1:array}))"
   ]
  },
  {
   "cell_type": "code",
   "execution_count": 78,
   "metadata": {
    "collapsed": false
   },
   "outputs": [
    {
     "name": "stdout",
     "output_type": "stream",
     "text": [
      "[ 6.  7.  8.]\n"
     ]
    }
   ],
   "source": [
    "# Reiniciar el grafo\n",
    "ops.reset_default_graph()\n",
    "# crea un placeholder de tipo float 32-bit, shape es un vector 3 elementos\n",
    "a = tf.placeholder(tf.float32, shape=[3])\n",
    "# crea una constante de tipo float 32-bit, shape es un vector 3 elementos\n",
    "b = tf.constant([5, 5, 5], tf.float32)\n",
    "c = a + b # equivalente a c = tf.add(a,b)\n",
    "with tf.Session() as sess:\n",
    "    # Inicialización y escritura sobre el grafo\n",
    "    writer = tf.summary.FileWriter(\"./temp2/\", graph=sess.graph)\n",
    "    print sess.run(c, feed_dict={a : [1,2,3]})"
   ]
  },
  {
   "cell_type": "markdown",
   "metadata": {},
   "source": [
    "<b>Matrices y Operaciones</b>\n",
    "<br>\n",
    "<b>Declarando matrices</b>\n",
    "<br>\n",
    "Matriz identidad:\n",
    "\n"
   ]
  },
  {
   "cell_type": "code",
   "execution_count": 80,
   "metadata": {
    "collapsed": false
   },
   "outputs": [
    {
     "name": "stdout",
     "output_type": "stream",
     "text": [
      "[[ 1.  0.  0.]\n",
      " [ 0.  1.  0.]\n",
      " [ 0.  0.  1.]]\n"
     ]
    }
   ],
   "source": [
    "identity_matrix = tf.diag([1.0,1.0,1.0])\n",
    "sess = tf.Session()\n",
    "\n",
    "print(sess.run(identity_matrix))"
   ]
  },
  {
   "cell_type": "markdown",
   "metadata": {},
   "source": [
    "Matriz norma aleatoria 2x3:\n"
   ]
  },
  {
   "cell_type": "code",
   "execution_count": 81,
   "metadata": {
    "collapsed": false
   },
   "outputs": [
    {
     "name": "stdout",
     "output_type": "stream",
     "text": [
      "[[-1.09666383 -0.27636975  0.05493239]\n",
      " [-0.87236619 -1.34907997  1.55692649]]\n"
     ]
    }
   ],
   "source": [
    "A = tf.truncated_normal([2,3])\n",
    "print(sess.run(A))"
   ]
  },
  {
   "cell_type": "markdown",
   "metadata": {},
   "source": [
    "Matriz constante 2x3:"
   ]
  },
  {
   "cell_type": "code",
   "execution_count": 82,
   "metadata": {
    "collapsed": false
   },
   "outputs": [
    {
     "name": "stdout",
     "output_type": "stream",
     "text": [
      "[[ 5.  5.  5.]\n",
      " [ 5.  5.  5.]]\n"
     ]
    }
   ],
   "source": [
    "B = tf.fill([2,3], 5.0)\n",
    "print(sess.run(B))"
   ]
  },
  {
   "cell_type": "markdown",
   "metadata": {},
   "source": [
    "Matriz uniforme al azar 3x2:"
   ]
  },
  {
   "cell_type": "code",
   "execution_count": 95,
   "metadata": {
    "collapsed": false
   },
   "outputs": [
    {
     "name": "stdout",
     "output_type": "stream",
     "text": [
      "[[ 0.51399267  0.51623952]\n",
      " [ 0.1822263   0.74697077]\n",
      " [ 0.93820345  0.31535494]]\n"
     ]
    }
   ],
   "source": [
    "C = tf.random_uniform([3,2])\n",
    "print(sess.run(C))"
   ]
  },
  {
   "cell_type": "markdown",
   "metadata": {},
   "source": [
    "Creando una matriz a partir de numpy:"
   ]
  },
  {
   "cell_type": "code",
   "execution_count": 89,
   "metadata": {
    "collapsed": false
   },
   "outputs": [
    {
     "name": "stdout",
     "output_type": "stream",
     "text": [
      "[[ 1.  2.  3.]\n",
      " [-3. -7. -1.]\n",
      " [ 0.  5. -2.]]\n",
      "(3, 3)\n"
     ]
    }
   ],
   "source": [
    "D = tf.convert_to_tensor(np.array([[1., 2., 3.], [-3., -7., -1.], [0., 5., -2.]]))\n",
    "print(sess.run(D))\n",
    "print D.shape"
   ]
  },
  {
   "cell_type": "markdown",
   "metadata": {},
   "source": [
    "<b>Matriz Operaciones</b>"
   ]
  },
  {
   "cell_type": "code",
   "execution_count": 90,
   "metadata": {
    "collapsed": false
   },
   "outputs": [
    {
     "name": "stdout",
     "output_type": "stream",
     "text": [
      "[[ 4.43833351  4.66479921  4.70165777]\n",
      " [ 6.17652369  5.2548151   6.05221653]]\n",
      "[[ 0.  0.  0.]\n",
      " [ 0.  0.  0.]]\n"
     ]
    }
   ],
   "source": [
    "print(sess.run(A+B))\n",
    "print(sess.run(B-B))"
   ]
  },
  {
   "cell_type": "code",
   "execution_count": 91,
   "metadata": {
    "collapsed": false
   },
   "outputs": [
    {
     "name": "stdout",
     "output_type": "stream",
     "text": [
      "[[ 5.  5.  5.]\n",
      " [ 5.  5.  5.]]\n"
     ]
    }
   ],
   "source": [
    "print(sess.run(tf.matmul(B, identity_matrix)))\n"
   ]
  },
  {
   "cell_type": "markdown",
   "metadata": {},
   "source": [
    "Matrix Transpuesta:"
   ]
  },
  {
   "cell_type": "code",
   "execution_count": 96,
   "metadata": {
    "collapsed": false
   },
   "outputs": [
    {
     "name": "stdout",
     "output_type": "stream",
     "text": [
      "[[ 0.18222654  0.26450145  0.76856899]\n",
      " [ 0.67946672  0.02408278  0.80925453]]\n"
     ]
    }
   ],
   "source": [
    "print(sess.run(tf.transpose(C)))"
   ]
  },
  {
   "cell_type": "markdown",
   "metadata": {},
   "source": [
    "Determinante de la matriz:\n"
   ]
  },
  {
   "cell_type": "code",
   "execution_count": 97,
   "metadata": {
    "collapsed": false
   },
   "outputs": [
    {
     "name": "stdout",
     "output_type": "stream",
     "text": [
      "-38.0\n"
     ]
    }
   ],
   "source": [
    "print(sess.run(tf.matrix_determinant(D)))\n"
   ]
  },
  {
   "cell_type": "markdown",
   "metadata": {},
   "source": [
    "Matriz inversa:\n"
   ]
  },
  {
   "cell_type": "code",
   "execution_count": 98,
   "metadata": {
    "collapsed": false
   },
   "outputs": [
    {
     "name": "stdout",
     "output_type": "stream",
     "text": [
      "[[-0.5        -0.5        -0.5       ]\n",
      " [ 0.15789474  0.05263158  0.21052632]\n",
      " [ 0.39473684  0.13157895  0.02631579]]\n"
     ]
    }
   ],
   "source": [
    "print(sess.run(tf.matrix_inverse(D)))\n"
   ]
  },
  {
   "cell_type": "code",
   "execution_count": null,
   "metadata": {
    "collapsed": true
   },
   "outputs": [],
   "source": []
  }
 ],
 "metadata": {
  "anaconda-cloud": {},
  "kernelspec": {
   "display_name": "Python [default]",
   "language": "python",
   "name": "python2"
  },
  "language_info": {
   "codemirror_mode": {
    "name": "ipython",
    "version": 2
   },
   "file_extension": ".py",
   "mimetype": "text/x-python",
   "name": "python",
   "nbconvert_exporter": "python",
   "pygments_lexer": "ipython2",
   "version": "2.7.12"
  }
 },
 "nbformat": 4,
 "nbformat_minor": 1
}

