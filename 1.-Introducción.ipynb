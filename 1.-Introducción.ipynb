{
 "cells": [
  {
   "cell_type": "markdown",
   "metadata": {},
   "source": [
    "<center><big><b>Bienvenido a TensorFlow</b></big></center>\n",
    "<img src=\"images/LOGO.jpeg\">"
   ]
  },
  {
   "cell_type": "markdown",
   "metadata": {},
   "source": [
    "<big><b>Qué es Tensorflow?</b></big>\n",
    "Es una librería open source desarrollada para el cálculo numérico utilizando flujo de grafos. Desarrollada por Google con el objetivo de una infraestructura para el aprendizaje automático tanto en producción como en investigación. "
   ]
  },
  {
   "cell_type": "markdown",
   "metadata": {},
   "source": [
    "<big><b>Por qué utilizar Tensorflow?</b></big>\n",
    "<ul>\n",
    "  <li>Flexible</li>\n",
    "  <li>Escalable</li>\n",
    "  <li>Popularidad\n",
    "    <img src=\"images/popularity.jpeg\" alt=\"\">  \n",
    "  </li>\n",
    "  <li>Compañias utilizando Tensorflow\n",
    "  <figure>\n",
    "    <img src=\"images/companies.jpeg\" alt=\"\">  \n",
    "  <center><figcaption>Fig2. - Compañias que utilizan Tensorflow.</figcaption></center>\n",
    "</figure>\n",
    "  </li>\n",
    "  <li>multiplataforma</li>\n",
    "</ul>"
   ]
  },
  {
   "cell_type": "markdown",
   "metadata": {},
   "source": [
    "<big><b>Algunos proyectos que utilizan Tensorflow</b></big>\n",
    "<figure>\n",
    "<img src=\"images/aplicaciones.png\" alt=\"\">\n",
    "  <center><figcaption>Fig3. - Detección de cancer de la piel.</figcaption></center>\n",
    "</figure>\n",
    "<figure>\n",
    "<img src=\"images/aplicaciones1.gif\" alt=\"\">\n",
    "  <center><figcaption>Fig4. - autonavegación.</figcaption></center>\n",
    "</figure>\n",
    "\n",
    "<figure>\n",
    "<img src=\"images/aplicaciones2.gif\" alt=\"\">\n",
    "  <center><figcaption>Fig5. - Reconocmiento de objetos y rostros.</figcaption></center>\n",
    "</figure>\n",
    "\n",
    "<figure>\n",
    "<img src=\"images/aplicaciones3.gif\" alt=\"\">  \n",
    "  <center><figcaption>Fig6. - aplicación del reinforcing learning.</figcaption></center>\n",
    "</figure>\n"
   ]
  },
  {
   "cell_type": "markdown",
   "metadata": {},
   "source": [
    "<big><b>Objetivos</b></big>\n",
    "<ul>\n",
    "  <li>Entender el enfoque de flujo de grafos</li>\n",
    "    <li>Explore las funciones y clases integradas a Tensorflow</li>\n",
    "</ul>\n",
    "<br>\n",
    "<big><b>Antes de empezar</b></big>\n",
    "<big><b>Tensor</b></big>\n",
    "Es un arraglo n-dimensional. Por ejemplo:\n",
    "<figure>\n",
    "<img src=\"images/tensor.webp\">\n",
    "<center><figcaption>Fig7. - Ejemplos de dimensiones de los Tensores.</figcaption></center>\n",
    "</figure>"
   ]
  },
  {
   "cell_type": "markdown",
   "metadata": {},
   "source": [
    "<big><b>Flujo de grafos</b></big>\n",
    "<ol>\n",
    "  <li>construcción del grafo\n",
    "  <figure>\n",
    "<img src=\"images/flow.png\">\n",
    "<center><figcaption>Fig8. - Construcción del grafo.</figcaption></center>\n",
    "</figure>\n",
    "  </li>\n",
    "</ol>\n",
    "\n",
    "<ol>\n",
    "  <li>Construcción del grafo</li>\n",
    "    <li>Uso de usa sesión para ejecutar el grafo\n",
    "\n",
    "  <figure>\n",
    "<img src=\"images/flow.png\">\n",
    "<center><figcaption>Fig9. - Uso de usa sesión para ejecutar el grafo.</figcaption></center>\n",
    "</figure>\n",
    "  </li>\n",
    "</ol>\n"
   ]
  },
  {
   "cell_type": "code",
   "execution_count": 10,
   "metadata": {
    "collapsed": false
   },
   "outputs": [
    {
     "name": "stdout",
     "output_type": "stream",
     "text": [
      "Tensor(\"Add_2:0\", shape=(), dtype=int32)\n"
     ]
    }
   ],
   "source": [
    "#ejemplo 1\n",
    "import tensorflow as tf\n",
    "\n",
    "w = tf.add(4,5)\n",
    "print w"
   ]
  },
  {
   "cell_type": "code",
   "execution_count": 12,
   "metadata": {
    "collapsed": false
   },
   "outputs": [
    {
     "name": "stdout",
     "output_type": "stream",
     "text": [
      "9\n"
     ]
    }
   ],
   "source": [
    "sess = tf.Session()\n",
    "print sess.run(w)\n",
    "sess.close()"
   ]
  },
  {
   "cell_type": "code",
   "execution_count": 14,
   "metadata": {
    "collapsed": false
   },
   "outputs": [
    {
     "name": "stdout",
     "output_type": "stream",
     "text": [
      "9\n"
     ]
    }
   ],
   "source": [
    "with tf.Session() as sess:\n",
    "    print sess.run(w)"
   ]
  },
  {
   "cell_type": "code",
   "execution_count": 4,
   "metadata": {
    "collapsed": false
   },
   "outputs": [
    {
     "name": "stdout",
     "output_type": "stream",
     "text": [
      "8\n"
     ]
    }
   ],
   "source": [
    "import tensorflow as tf\n",
    "#ejemplo 2\n",
    "x = 2\n",
    "y = 1\n",
    "op1 = tf.add(x, y)\n",
    "op2 = tf.multiply(x, y)\n",
    "op3 = tf.pow(op2, op1)\n",
    "with tf.Session() as sess:\n",
    "    writer = tf.summary.FileWriter('./graphs', sess.graph)\n",
    "    op3 = sess.run(op3)\n",
    "print op3"
   ]
  },
  {
   "cell_type": "code",
   "execution_count": 2,
   "metadata": {
    "collapsed": false
   },
   "outputs": [
    {
     "name": "stdout",
     "output_type": "stream",
     "text": [
      "5\n"
     ]
    }
   ],
   "source": [
    "import tensorflow as tf\n",
    "x = tf.add(2, 3)\n",
    "with tf.Session() as sess:\n",
    "    #agregar esta linea para usar tensorboard\n",
    "    writer = tf.summary.FileWriter('./graph', sess.graph)\n",
    "    print sess.run(x)\n",
    "writer.close() "
   ]
  },
  {
   "cell_type": "markdown",
   "metadata": {
    "collapsed": false
   },
   "source": [
    "Ejecutar con consola el siguiente código:\n",
    "tensorboard --logdir=\"./graph\" --port 6006\n",
    "<figure>\n",
    "<img src=\"images/graph_run=.png\">\n",
    "<center><figcaption>Fig10. - Visualización del grafo generado por Tensorboard.</figcaption></center>\n",
    "</figure>"
   ]
  },
  {
   "cell_type": "code",
   "execution_count": null,
   "metadata": {
    "collapsed": true
   },
   "outputs": [],
   "source": []
  }
 ],
 "metadata": {
  "anaconda-cloud": {},
  "kernelspec": {
   "display_name": "Python [default]",
   "language": "python",
   "name": "python2"
  },
  "language_info": {
   "codemirror_mode": {
    "name": "ipython",
    "version": 2
   },
   "file_extension": ".py",
   "mimetype": "text/x-python",
   "name": "python",
   "nbconvert_exporter": "python",
   "pygments_lexer": "ipython2",
   "version": "2.7.12"
  }
 },
 "nbformat": 4,
 "nbformat_minor": 1
}
